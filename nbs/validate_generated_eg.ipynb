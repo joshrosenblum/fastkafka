{
 "cells": [
  {
   "cell_type": "markdown",
   "id": "8c8f7b41",
   "metadata": {},
   "source": [
    "Validate Plan"
   ]
  },
  {
   "cell_type": "code",
   "execution_count": null,
   "id": "aec913cc",
   "metadata": {},
   "outputs": [],
   "source": [
    "plan = {\n",
    "  \"entities\": [\n",
    "    {\n",
    "      \"name\": \"StoreProduct\",\n",
    "      \"arguments\": {\n",
    "        \"product_name\": \"str\",\n",
    "        \"currency\": \"str\",\n",
    "        \"price\": \"float\"\n",
    "      }\n",
    "    }\n",
    "  ],\n",
    "  \"apps\": [\n",
    "    {\n",
    "      \"appName\": \"app\",\n",
    "      \"kafka_brokers\": {\n",
    "        \"localhost\": {\n",
    "          \"url\": \"localhost\",\n",
    "          \"description\": \"local development kafka broker\",\n",
    "          \"port\": 9092\n",
    "        }\n",
    "      },\n",
    "      \"title\": \"FastKafka App\",\n",
    "      \"consumes_functions\": {\n",
    "        \"on_store_product\": {\n",
    "          \"topic\": \"store_product\",\n",
    "          \"prefix\": \"on\",\n",
    "          \"input_parameters\": [\n",
    "            {\n",
    "              \"msg\": \"StoreProduct\"\n",
    "            }\n",
    "          ]\n",
    "        }\n",
    "      },\n",
    "      \"produces_functions\": {\n",
    "        \"change_currency\": {\n",
    "          \"topic\": \"change_currency\",\n",
    "          \"prefix\": \"to\",\n",
    "          \"input_parameters\": [\n",
    "            {\n",
    "              \"store_product\": \"StoreProduct\"\n",
    "            }\n",
    "          ],\n",
    "          \"returns\": \"StoreProduct\"\n",
    "        }\n",
    "      }\n",
    "    }\n",
    "  ]\n",
    "}"
   ]
  },
  {
   "cell_type": "code",
   "execution_count": null,
   "id": "01a7dc63",
   "metadata": {},
   "outputs": [],
   "source": [
    "from typing import List, Dict, Any\n",
    "\n",
    "def validate_entities(entities: List[Dict[str, Any]]) -> None:\n",
    "    assert len(entities) > 0\n",
    "    \n",
    "    for entity in entities:\n",
    "        for attribute_name in [\"name\", \"arguments\"]:\n",
    "            assert attribute_name in entity.keys()\n"
   ]
  },
  {
   "cell_type": "code",
   "execution_count": null,
   "id": "fcfbb1d3",
   "metadata": {},
   "outputs": [],
   "source": [
    "validate_entities(plan[\"entities\"])"
   ]
  },
  {
   "cell_type": "code",
   "execution_count": null,
   "id": "402f1fe9",
   "metadata": {},
   "outputs": [],
   "source": [
    "def validate_function(function: Dict[str, Any], is_produces_function: bool=False):\n",
    "    function_keys = function.keys()\n",
    "    for attribute_name in [\"topic\", \"prefix\", \"input_parameters\"]:\n",
    "        assert attribute_name in function_keys\n",
    "        \n",
    "    if is_produces_function:\n",
    "        assert \"returns\" in function_keys\n",
    "        assert function[\"returns\"] is not None"
   ]
  },
  {
   "cell_type": "code",
   "execution_count": null,
   "id": "06d15c29",
   "metadata": {},
   "outputs": [],
   "source": [
    "def vlidate_apps(apps: List[Dict[str, Any]]) -> None:\n",
    "    assert len(apps) > 0\n",
    "    \n",
    "    for app in apps:\n",
    "        # assert there is at least one consumes/produces function for each app\n",
    "        assert (len(app[\"consumes_functions\"]) > 0 or len(app[\"produces_functions\"]) > 0)\n",
    "        for attribute_name in [\"appName\", \"kafka_brokers\", \"title\"]:\n",
    "            assert attribute_name in app.keys()\n",
    "            \n",
    "        for consumes in app[\"consumes_functions\"].values():\n",
    "            validate_function(consumes)\n",
    "            \n",
    "        for produces in app[\"produces_functions\"].values():\n",
    "            validate_function(produces)"
   ]
  },
  {
   "cell_type": "code",
   "execution_count": null,
   "id": "109c074e",
   "metadata": {},
   "outputs": [],
   "source": [
    "vlidate_apps(plan[\"apps\"])"
   ]
  },
  {
   "cell_type": "code",
   "execution_count": null,
   "id": "4dca79ac",
   "metadata": {},
   "outputs": [
    {
     "name": "stdout",
     "output_type": "stream",
     "text": [
      "class TestMsg(BaseModel):\n",
      "    msg: str = Field(...)\n",
      "\n"
     ]
    }
   ],
   "source": [
    "import inspect\n",
    "from guides.application_test import TestMsg\n",
    "lines = inspect.getsource(TestMsg)\n",
    "print(lines)"
   ]
  },
  {
   "cell_type": "markdown",
   "id": "4291b2fd",
   "metadata": {},
   "source": [
    "Validate generated app"
   ]
  },
  {
   "cell_type": "code",
   "execution_count": null,
   "id": "f7d9d29e",
   "metadata": {},
   "outputs": [],
   "source": [
    "generated_app = \"\"\"\n",
    "from fastkafka import FastKafka\n",
    "from pydantic import BaseModel, Field\n",
    "\n",
    "\n",
    "kafka_brokers = {\n",
    "    \"localhost\": {\n",
    "        \"url\": \"localhost\",\n",
    "        \"description\": \"local development kafka broker\",\n",
    "        \"port\": 9092,\n",
    "    }\n",
    "}\n",
    "\n",
    "title = \"FastKafka Application\"\n",
    "\n",
    "kafka_app = FastKafka(\n",
    "    title=title,\n",
    "    kafka_brokers=kafka_brokers,\n",
    ")\n",
    "\n",
    "\n",
    "class StoreProduct():\n",
    "    product_name: str = Field(..., description=\"Name of the product\")\n",
    "    currency: str = Field(..., description=\"Currency\")\n",
    "    price: float\n",
    "\n",
    "\n",
    "@kafka_app.consumes(prefix=\"on\", topic=\"store_product\")\n",
    "async def on_store_product(msg: StoreProduct):\n",
    "    await to_change_currency(msg)\n",
    "\n",
    "\n",
    "@kafka_app.produces(prefix=\"to\", topic=\"change_currency\")\n",
    "async def to_change_currency(store_product: StoreProduct) -> StoreProduct:\n",
    "    # Producing logic\n",
    "    if store_product.currency == \"HRK\":\n",
    "        store_product.currency = \"EUR\"\n",
    "        store_product.price /= 7.5\n",
    "    \n",
    "    return store_product\n",
    "\"\"\""
   ]
  },
  {
   "cell_type": "code",
   "execution_count": null,
   "id": "cfec3adb",
   "metadata": {},
   "outputs": [],
   "source": [
    "plan = {\n",
    "  \"entities\": [\n",
    "    {\n",
    "      \"name\": \"StoreProduct\",\n",
    "      \"arguments\": {\n",
    "        \"product_name\": \"str\",\n",
    "        \"currency\": \"str\",\n",
    "        \"price\": \"float\"\n",
    "      }\n",
    "    }\n",
    "  ],\n",
    "  \"apps\": [\n",
    "    {\n",
    "      \"appName\": \"app\",\n",
    "      \"kafka_brokers\": {\n",
    "        \"localhost\": {\n",
    "          \"url\": \"localhost\",\n",
    "          \"description\": \"local development kafka broker\",\n",
    "          \"port\": 9092\n",
    "        }\n",
    "      },\n",
    "      \"title\": \"FastKafka App\",\n",
    "      \"consumes_functions\": {\n",
    "        \"on_store_product\": {\n",
    "          \"topic\": \"store_product\",\n",
    "          \"prefix\": \"on\",\n",
    "          \"input_parameters\": [\n",
    "            {\n",
    "              \"msg\": \"StoreProduct\"            }\n",
    "          ]\n",
    "        }\n",
    "      },\n",
    "      \"produces_functions\": {\n",
    "        \"to_change_currency\": {\n",
    "          \"topic\": \"change_currency\",\n",
    "          \"prefix\": \"to\",\n",
    "          \"input_parameters\": [\n",
    "            {\n",
    "              \"store_product\": \"StoreProduct\"\n",
    "            }\n",
    "          ],\n",
    "          \"returns\": \"StoreProduct\"\n",
    "        }\n",
    "      }\n",
    "    }\n",
    "  ]\n",
    "}"
   ]
  },
  {
   "cell_type": "code",
   "execution_count": null,
   "id": "de9c0c65",
   "metadata": {},
   "outputs": [],
   "source": []
  },
  {
   "cell_type": "code",
   "execution_count": null,
   "id": "9a984cb5",
   "metadata": {},
   "outputs": [],
   "source": [
    "import tempfile\n",
    "from importlib.machinery import SourceFileLoader\n",
    "import inspect\n",
    "\n",
    "# TODO: compare types in the Plan and generated script\n",
    "# TODO: check/compare parameters in decorator (prefix, topic...)\n",
    "\n",
    "def validate_generated_functions(apps, module: SourceFileLoader, fix_prompt: str, is_produces_function: bool=False):\n",
    "    function_type = \"produces\" if is_produces_function else \"consumes\"\n",
    "    \n",
    "    for app in plan[\"apps\"]:\n",
    "        for function_name, attributes in app[function_type + \"_functions\"].items():\n",
    "            # generated app must have all functions defined in the Plan\n",
    "            if not hasattr(module, function_name):\n",
    "                fix_prompt += f'Fix: {app[\"appName\"]} is missing {function_type} function: {function_name}\\n'\n",
    "\n",
    "            attr = getattr(module, function_name)\n",
    "            attr_signature_keys = list(inspect.signature(attr).parameters.keys())\n",
    "            \n",
    "            for input_parameter in attributes[\"input_parameters\"]:\n",
    "                for parameter_name, parameter_type in input_parameter.items():\n",
    "                    # Generatet consumes and produces function must have all input parameters from the Plan\n",
    "                    if parameter_name not in attr_signature_keys: \n",
    "                        fix_prompt += f'Fix: {function_type} function {function_name} is missing input parameter {parameter_name}\\n'\n",
    "                        \n",
    "            if is_produces_function:\n",
    "                lines = inspect.getsource(attr)\n",
    "                # At the end of each produces function must be a return statement\n",
    "                if \"return\" not in lines.strip().split(\"\\n\")[-1]:\n",
    "                    fix_prompt += f'Fix: {function_type} function {function_name} MUST return some message\\n'\n",
    "                    \n",
    "    return fix_prompt\n",
    "       "
   ]
  },
  {
   "cell_type": "code",
   "execution_count": null,
   "id": "d40832d7",
   "metadata": {},
   "outputs": [
    {
     "name": "stdout",
     "output_type": "stream",
     "text": [
      "\n"
     ]
    }
   ],
   "source": [
    "with tempfile.NamedTemporaryFile(mode='w+', suffix = '.py') as tmp:\n",
    "    # Save generated application to *.py file\n",
    "    tmp.write(generated_app)\n",
    "    #tmp.seek(0)\n",
    "    tmp.flush()\n",
    " \n",
    "    # imports the module from the given path\n",
    "    module_name = \"application\"\n",
    "    fix_prompt = \"\"\n",
    "    try:\n",
    "        module = SourceFileLoader(module_name, tmp.name).load_module()\n",
    "        fix_prompt = validate_generated_functions(plan[\"apps\"], module, fix_prompt, is_produces_function=False)\n",
    "        fix_prompt = validate_generated_functions(plan[\"apps\"], module, fix_prompt, is_produces_function=True)\n",
    "    # try to fix an error if we can't import the generated file\n",
    "    # (if some libs / variables / classes are used but not defined...)\n",
    "    except Exception as e:\n",
    "        fix_prompt += f\"Fix: python file isn't valid, please resolve the following error: {e}\\n\"\n",
    "    \n",
    "print(fix_prompt)"
   ]
  }
 ],
 "metadata": {
  "kernelspec": {
   "display_name": "python3",
   "language": "python",
   "name": "python3"
  }
 },
 "nbformat": 4,
 "nbformat_minor": 5
}
